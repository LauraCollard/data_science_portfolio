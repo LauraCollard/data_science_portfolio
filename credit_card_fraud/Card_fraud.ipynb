{
 "cells": [
  {
   "cell_type": "markdown",
   "metadata": {},
   "source": [
    "# Detecting credit card fraud: improving performance with Deep Learning\n",
    "----\n",
    "\n",
    "In this project, we predict instances of credit card fraud using different models. The objective is of course to correctly detect all fraudulent transactions. We use the following models:\n",
    "- Logistic Regression,\n",
    "- Random Forest,\n",
    "- Deep Learning approach: 5-layer Neural Network built with the Keras framework.\n",
    "\n",
    "The dataset we use is [available here](https://www.kaggle.com/mlg-ulb/creditcardfraud) on the Kaggle website. It contains 284,807 transactions made in September 2013 by European cardholders.\n",
    "\n",
    "In the first part of this project, we only use a subset of this dataset (21,693 transactions). After having built and tested our Deep Learning model on this subset, we make use of the full dataset to improve our Neural Network's performance."
   ]
  },
  {
   "cell_type": "code",
   "execution_count": 1,
   "metadata": {},
   "outputs": [
    {
     "name": "stderr",
     "output_type": "stream",
     "text": [
      "Using TensorFlow backend.\n"
     ]
    }
   ],
   "source": [
    "import pandas as pd\n",
    "import numpy as np\n",
    "import matplotlib.pyplot as plt\n",
    "import seaborn as sns\n",
    "% matplotlib inline\n",
    "from sklearn.model_selection import train_test_split\n",
    "from sklearn.preprocessing import StandardScaler\n",
    "from sklearn.dummy import DummyClassifier\n",
    "from sklearn.linear_model import LogisticRegression\n",
    "from sklearn.model_selection import GridSearchCV\n",
    "from sklearn.ensemble import RandomForestClassifier\n",
    "from sklearn.metrics import f1_score\n",
    "import keras\n",
    "from keras import backend as K\n",
    "from keras.models import Sequential\n",
    "from keras.layers import Dense, Dropout, Activation\n",
    "from keras.optimizers import Adam"
   ]
  },
  {
   "cell_type": "code",
   "execution_count": 2,
   "metadata": {},
   "outputs": [
    {
     "data": {
      "text/html": [
       "<div>\n",
       "<style scoped>\n",
       "    .dataframe tbody tr th:only-of-type {\n",
       "        vertical-align: middle;\n",
       "    }\n",
       "\n",
       "    .dataframe tbody tr th {\n",
       "        vertical-align: top;\n",
       "    }\n",
       "\n",
       "    .dataframe thead th {\n",
       "        text-align: right;\n",
       "    }\n",
       "</style>\n",
       "<table border=\"1\" class=\"dataframe\">\n",
       "  <thead>\n",
       "    <tr style=\"text-align: right;\">\n",
       "      <th></th>\n",
       "      <th>V1</th>\n",
       "      <th>V2</th>\n",
       "      <th>V3</th>\n",
       "      <th>V4</th>\n",
       "      <th>V5</th>\n",
       "      <th>V6</th>\n",
       "      <th>V7</th>\n",
       "      <th>V8</th>\n",
       "      <th>V9</th>\n",
       "      <th>V10</th>\n",
       "      <th>...</th>\n",
       "      <th>V21</th>\n",
       "      <th>V22</th>\n",
       "      <th>V23</th>\n",
       "      <th>V24</th>\n",
       "      <th>V25</th>\n",
       "      <th>V26</th>\n",
       "      <th>V27</th>\n",
       "      <th>V28</th>\n",
       "      <th>Amount</th>\n",
       "      <th>Class</th>\n",
       "    </tr>\n",
       "  </thead>\n",
       "  <tbody>\n",
       "    <tr>\n",
       "      <th>0</th>\n",
       "      <td>1.176563</td>\n",
       "      <td>0.323798</td>\n",
       "      <td>0.536927</td>\n",
       "      <td>1.047002</td>\n",
       "      <td>-0.368652</td>\n",
       "      <td>-0.728586</td>\n",
       "      <td>0.084678</td>\n",
       "      <td>-0.069246</td>\n",
       "      <td>-0.266389</td>\n",
       "      <td>0.155315</td>\n",
       "      <td>...</td>\n",
       "      <td>-0.109627</td>\n",
       "      <td>-0.341365</td>\n",
       "      <td>0.057845</td>\n",
       "      <td>0.499180</td>\n",
       "      <td>0.415211</td>\n",
       "      <td>-0.581949</td>\n",
       "      <td>0.015472</td>\n",
       "      <td>0.018065</td>\n",
       "      <td>4.67</td>\n",
       "      <td>0</td>\n",
       "    </tr>\n",
       "    <tr>\n",
       "      <th>1</th>\n",
       "      <td>0.681109</td>\n",
       "      <td>-3.934776</td>\n",
       "      <td>-3.801827</td>\n",
       "      <td>-1.147468</td>\n",
       "      <td>-0.735540</td>\n",
       "      <td>-0.501097</td>\n",
       "      <td>1.038865</td>\n",
       "      <td>-0.626979</td>\n",
       "      <td>-2.274423</td>\n",
       "      <td>1.527782</td>\n",
       "      <td>...</td>\n",
       "      <td>0.652202</td>\n",
       "      <td>0.272684</td>\n",
       "      <td>-0.982151</td>\n",
       "      <td>0.165900</td>\n",
       "      <td>0.360251</td>\n",
       "      <td>0.195321</td>\n",
       "      <td>-0.256273</td>\n",
       "      <td>0.056501</td>\n",
       "      <td>912.00</td>\n",
       "      <td>0</td>\n",
       "    </tr>\n",
       "    <tr>\n",
       "      <th>2</th>\n",
       "      <td>1.140729</td>\n",
       "      <td>0.453484</td>\n",
       "      <td>0.247010</td>\n",
       "      <td>2.383132</td>\n",
       "      <td>0.343287</td>\n",
       "      <td>0.432804</td>\n",
       "      <td>0.093380</td>\n",
       "      <td>0.173310</td>\n",
       "      <td>-0.808999</td>\n",
       "      <td>0.775436</td>\n",
       "      <td>...</td>\n",
       "      <td>-0.003802</td>\n",
       "      <td>0.058556</td>\n",
       "      <td>-0.121177</td>\n",
       "      <td>-0.304215</td>\n",
       "      <td>0.645893</td>\n",
       "      <td>0.122600</td>\n",
       "      <td>-0.012115</td>\n",
       "      <td>-0.005945</td>\n",
       "      <td>1.00</td>\n",
       "      <td>0</td>\n",
       "    </tr>\n",
       "    <tr>\n",
       "      <th>3</th>\n",
       "      <td>-1.107073</td>\n",
       "      <td>-3.298902</td>\n",
       "      <td>-0.184092</td>\n",
       "      <td>-1.795744</td>\n",
       "      <td>2.137564</td>\n",
       "      <td>-1.684992</td>\n",
       "      <td>-2.015606</td>\n",
       "      <td>-0.007181</td>\n",
       "      <td>-0.165760</td>\n",
       "      <td>0.869659</td>\n",
       "      <td>...</td>\n",
       "      <td>0.130648</td>\n",
       "      <td>0.329445</td>\n",
       "      <td>0.927656</td>\n",
       "      <td>-0.049560</td>\n",
       "      <td>-1.892866</td>\n",
       "      <td>-0.575431</td>\n",
       "      <td>0.266573</td>\n",
       "      <td>0.414184</td>\n",
       "      <td>62.10</td>\n",
       "      <td>0</td>\n",
       "    </tr>\n",
       "    <tr>\n",
       "      <th>4</th>\n",
       "      <td>-0.314818</td>\n",
       "      <td>0.866839</td>\n",
       "      <td>-0.124577</td>\n",
       "      <td>-0.627638</td>\n",
       "      <td>2.651762</td>\n",
       "      <td>3.428128</td>\n",
       "      <td>0.194637</td>\n",
       "      <td>0.670674</td>\n",
       "      <td>-0.442658</td>\n",
       "      <td>0.133499</td>\n",
       "      <td>...</td>\n",
       "      <td>-0.312774</td>\n",
       "      <td>-0.799494</td>\n",
       "      <td>-0.064488</td>\n",
       "      <td>0.953062</td>\n",
       "      <td>-0.429550</td>\n",
       "      <td>0.158225</td>\n",
       "      <td>0.076943</td>\n",
       "      <td>-0.015051</td>\n",
       "      <td>2.67</td>\n",
       "      <td>0</td>\n",
       "    </tr>\n",
       "  </tbody>\n",
       "</table>\n",
       "<p>5 rows × 30 columns</p>\n",
       "</div>"
      ],
      "text/plain": [
       "         V1        V2        V3        V4        V5        V6        V7  \\\n",
       "0  1.176563  0.323798  0.536927  1.047002 -0.368652 -0.728586  0.084678   \n",
       "1  0.681109 -3.934776 -3.801827 -1.147468 -0.735540 -0.501097  1.038865   \n",
       "2  1.140729  0.453484  0.247010  2.383132  0.343287  0.432804  0.093380   \n",
       "3 -1.107073 -3.298902 -0.184092 -1.795744  2.137564 -1.684992 -2.015606   \n",
       "4 -0.314818  0.866839 -0.124577 -0.627638  2.651762  3.428128  0.194637   \n",
       "\n",
       "         V8        V9       V10  ...         V21       V22       V23  \\\n",
       "0 -0.069246 -0.266389  0.155315  ...   -0.109627 -0.341365  0.057845   \n",
       "1 -0.626979 -2.274423  1.527782  ...    0.652202  0.272684 -0.982151   \n",
       "2  0.173310 -0.808999  0.775436  ...   -0.003802  0.058556 -0.121177   \n",
       "3 -0.007181 -0.165760  0.869659  ...    0.130648  0.329445  0.927656   \n",
       "4  0.670674 -0.442658  0.133499  ...   -0.312774 -0.799494 -0.064488   \n",
       "\n",
       "        V24       V25       V26       V27       V28  Amount  Class  \n",
       "0  0.499180  0.415211 -0.581949  0.015472  0.018065    4.67      0  \n",
       "1  0.165900  0.360251  0.195321 -0.256273  0.056501  912.00      0  \n",
       "2 -0.304215  0.645893  0.122600 -0.012115 -0.005945    1.00      0  \n",
       "3 -0.049560 -1.892866 -0.575431  0.266573  0.414184   62.10      0  \n",
       "4  0.953062 -0.429550  0.158225  0.076943 -0.015051    2.67      0  \n",
       "\n",
       "[5 rows x 30 columns]"
      ]
     },
     "execution_count": 2,
     "metadata": {},
     "output_type": "execute_result"
    }
   ],
   "source": [
    "# loading the dataset\n",
    "df= pd.read_csv('fraud_data.csv')\n",
    "df.head()"
   ]
  },
  {
   "cell_type": "code",
   "execution_count": 3,
   "metadata": {},
   "outputs": [
    {
     "data": {
      "text/plain": [
       "(21693, 30)"
      ]
     },
     "execution_count": 3,
     "metadata": {},
     "output_type": "execute_result"
    }
   ],
   "source": [
    "df.shape"
   ]
  },
  {
   "cell_type": "markdown",
   "metadata": {},
   "source": [
    "----\n",
    "## Features exploration\n",
    "The available features include:\n",
    "- confidential variables **V1** to **V28** obtained from a PCA transformation,\n",
    "- **Amount** of the transaction.\n",
    "\n",
    "The target is stored in the **Class** column (where 1 represents an instance of fraud and 0 corresponds to a non-fraudulent transaction).\n",
    "\n",
    "Because they are the result of a PCA transformation, features **V1** to **V28** probably do not need any more preprocessing. Let's plot their distributions."
   ]
  },
  {
   "cell_type": "code",
   "execution_count": 4,
   "metadata": {},
   "outputs": [
    {
     "data": {
      "image/png": "[encoded data removed]",
      "text/plain": [
       "<matplotlib.figure.Figure at 0x1a1c748c18>"
      ]
     },
     "metadata": {},
     "output_type": "display_data"
    }
   ],
   "source": [
    "# generating a list of features\n",
    "features_list= list(df.columns.values)\n",
    "del features_list[-1]\n",
    "\n",
    "# plotting distributions\n",
    "sns.set(font_scale=1.2)\n",
    "fig= plt.figure(figsize=(15,12))\n",
    "fig.subplots_adjust(hspace=0.6, wspace=0.2)\n",
    "for i in range(1,len(features_list)):\n",
    "    ax= fig.add_subplot(7,4,i)\n",
    "    sns.distplot(df[features_list[i-1]], color=\"#128494\")"
   ]
  },
  {
   "cell_type": "markdown",
   "metadata": {},
   "source": [
    "On the contrary, the **Amount** feature probably needs scaling."
   ]
  },
  {
   "cell_type": "code",
   "execution_count": 5,
   "metadata": {},
   "outputs": [
    {
     "data": {
      "text/plain": [
       "count    21693.000000\n",
       "mean        86.776247\n",
       "std        235.644479\n",
       "min          0.000000\n",
       "25%          5.370000\n",
       "50%         21.950000\n",
       "75%         76.480000\n",
       "max       7712.430000\n",
       "Name: Amount, dtype: float64"
      ]
     },
     "execution_count": 5,
     "metadata": {},
     "output_type": "execute_result"
    }
   ],
   "source": [
    "# quick statistics corresponding to the Amount feature\n",
    "df[\"Amount\"].describe()"
   ]
  },
  {
   "cell_type": "code",
   "execution_count": 6,
   "metadata": {},
   "outputs": [
    {
     "data": {
      "text/plain": [
       "<matplotlib.axes._subplots.AxesSubplot at 0x107ba2908>"
      ]
     },
     "execution_count": 6,
     "metadata": {},
     "output_type": "execute_result"
    },
    {
     "data": {
      "image/png": "[encoded data removed]",
      "text/plain": [
       "<matplotlib.figure.Figure at 0x1a1c748b70>"
      ]
     },
     "metadata": {},
     "output_type": "display_data"
    }
   ],
   "source": [
    "# visualising the distribution of the Amount feature\n",
    "sns.set(font_scale=1.2)\n",
    "sns.distplot(df[\"Amount\"], color=\"#128494\")"
   ]
  },
  {
   "cell_type": "markdown",
   "metadata": {},
   "source": [
    "Indeed, **Amount** values vary quite a lot. We can see from the statistics above that they range from 0 to 7712.43 euros, with a mean of 86.78 and a standard deviation of 235.64. The 75th percentile is 76.48.\n",
    "\n",
    "Let's scale this feature using StandardScaler from Scikit-learn to have all values between 0 and 1."
   ]
  },
  {
   "cell_type": "code",
   "execution_count": 7,
   "metadata": {},
   "outputs": [
    {
     "data": {
      "text/plain": [
       "count    2.169300e+04\n",
       "mean     1.796378e-18\n",
       "std      1.000023e+00\n",
       "min     -3.682592e-01\n",
       "25%     -3.454701e-01\n",
       "50%     -2.751083e-01\n",
       "75%     -4.369499e-02\n",
       "max      3.236159e+01\n",
       "Name: Amount, dtype: float64"
      ]
     },
     "execution_count": 7,
     "metadata": {},
     "output_type": "execute_result"
    }
   ],
   "source": [
    "# scaling the Amount feature\n",
    "scaler= StandardScaler()\n",
    "df[\"Amount\"]= scaler.fit_transform(df[[\"Amount\"]])\n",
    "\n",
    "# quick statistics of the scaled Amount feature\n",
    "df[\"Amount\"].describe()"
   ]
  },
  {
   "cell_type": "markdown",
   "metadata": {},
   "source": [
    "----\n",
    "## Imbalanced classes"
   ]
  },
  {
   "cell_type": "markdown",
   "metadata": {},
   "source": [
    "Let's have a look at how imbalanced the classes are. It is indeed very common for fraud data to contain very few examples of fraud and a lot of non-fraud examples."
   ]
  },
  {
   "cell_type": "code",
   "execution_count": 8,
   "metadata": {},
   "outputs": [
    {
     "name": "stdout",
     "output_type": "stream",
     "text": [
      "Fraud instances:  0.016410823768035772\n"
     ]
    },
    {
     "data": {
      "image/png": "[encoded data removed]",
      "text/plain": [
       "<matplotlib.figure.Figure at 0x10867a1d0>"
      ]
     },
     "metadata": {},
     "output_type": "display_data"
    }
   ],
   "source": [
    "# visualising the number of genuine (0) vs. fraudulent transactions (1)\n",
    "sns.set(font_scale=1.2)\n",
    "imbalance= sns.countplot(y=\"Class\", data=df, palette=\"GnBu_d\")\n",
    "fraud_examples= len(df[df[\"Class\"]==1])\n",
    "print(\"Fraud instances: \", fraud_examples/len(df))"
   ]
  },
  {
   "cell_type": "markdown",
   "metadata": {},
   "source": [
    "As expected, the classes are very much imbalanced: fraudulent transactions only represent 1.64% of all transactions in this dataset. As a result, we cannot rely on accuracy as an evaluation metric for the different models that we will use. Indeed, a model that would never predict fraudulent transactions would have a very high accuracy. For the sake of the argument, let's use a Dummy Classifier to illustrate this."
   ]
  },
  {
   "cell_type": "code",
   "execution_count": 9,
   "metadata": {},
   "outputs": [
    {
     "name": "stdout",
     "output_type": "stream",
     "text": [
      "Fraud instances in the training set: 0.0162 vs. test set: 0.0170\n",
      "Dummy Classifier accuracy:  0.983038348083\n"
     ]
    }
   ],
   "source": [
    "# splitting the dataset\n",
    "X= df.iloc[:,:-1]\n",
    "y= df.iloc[:,-1]\n",
    "X_train, X_test, y_train, y_test= train_test_split(X, y, random_state=1)\n",
    "\n",
    "# double-checking comparable class representation in both subsets\n",
    "train_proportion= len(y_train[y_train==1])/len(y_train)\n",
    "test_proportion= len(y_test[y_test==1])/len(y_test)\n",
    "print(\"Fraud instances in the training set: {:.4f} vs. test set: {:.4f}\".format(train_proportion, test_proportion))\n",
    "\n",
    "# dummy classifier\n",
    "dummy= DummyClassifier(strategy=\"most_frequent\").fit(X_train, y_train)\n",
    "print(\"Dummy Classifier accuracy: \", dummy.score(X_test, y_test))"
   ]
  },
  {
   "cell_type": "markdown",
   "metadata": {},
   "source": [
    "By predicting non-fraud every time, the Dummy Classifier has 98.3% accuracy. Therefore, accuracy is not an approriate metric for this dataset. Instead, we will use the $F_1$ score.\n",
    "\n",
    "Note that, in the case of the Dummy Classifier, trying to calculate the $F_1$ score will produce a warning because the model doesn't predict any instances of fraud. The $F_1$ score will be set to 0."
   ]
  },
  {
   "cell_type": "code",
   "execution_count": 10,
   "metadata": {},
   "outputs": [
    {
     "name": "stdout",
     "output_type": "stream",
     "text": [
      "Dummy Classifier F1 score:  0.0\n"
     ]
    },
    {
     "name": "stderr",
     "output_type": "stream",
     "text": [
      "/anaconda3/lib/python3.6/site-packages/sklearn/metrics/classification.py:1135: UndefinedMetricWarning: F-score is ill-defined and being set to 0.0 due to no predicted samples.\n",
      "  'precision', 'predicted', average, warn_for)\n"
     ]
    }
   ],
   "source": [
    "# F1 score of the Dummy Classifier\n",
    "print(\"Dummy Classifier F1 score: \", f1_score(y_test, dummy.predict(X_test)))"
   ]
  },
  {
   "cell_type": "markdown",
   "metadata": {},
   "source": [
    "----\n",
    "## Logistic Regression model\n",
    "This model is very often used as a benchmark. Let's train it and calculate its $F_1$ score."
   ]
  },
  {
   "cell_type": "code",
   "execution_count": 11,
   "metadata": {},
   "outputs": [
    {
     "name": "stdout",
     "output_type": "stream",
     "text": [
      "Logistic Regression F1 score:  0.877192982456\n"
     ]
    }
   ],
   "source": [
    "# Logistic Regression model with default parameters\n",
    "logreg= LogisticRegression().fit(X_train, y_train)\n",
    "logreg_f1= f1_score(y_test, logreg.predict(X_test))\n",
    "print(\"Logistic Regression F1 score: \", logreg_f1)"
   ]
  },
  {
   "cell_type": "markdown",
   "metadata": {},
   "source": [
    "With default parameters, the Logistic Regression model gets an $F_1$ score of 87.72% on the test set. Let's try and improve this score by tuning some parameters, namely the type of penalty and the value of C. To do this, we use GridSearchCV. Let's also plot the obtained $F_1$ scores on a heatmap for easy visualisation."
   ]
  },
  {
   "cell_type": "code",
   "execution_count": 12,
   "metadata": {},
   "outputs": [
    {
     "name": "stdout",
     "output_type": "stream",
     "text": [
      "All F1 scores:\n",
      " [[ 0.77334498  0.87341772]\n",
      " [ 0.87019733  0.88546771]\n",
      " [ 0.8651704   0.86632529]\n",
      " [ 0.86881163  0.86881163]]\n"
     ]
    },
    {
     "data": {
      "image/png": "[encoded data removed]",
      "text/plain": [
       "<matplotlib.figure.Figure at 0x1a26865f60>"
      ]
     },
     "metadata": {},
     "output_type": "display_data"
    }
   ],
   "source": [
    "# using GridSearchCV to tune the penalty and C\n",
    "logreg2= LogisticRegression()\n",
    "grid_values= {\"penalty\": [\"l1\", \"l2\"], \"C\": [0.01, 0.1, 1, 10]}\n",
    "grid_clf= GridSearchCV(logreg2, param_grid=grid_values, scoring=\"f1\", return_train_score=True)\n",
    "grid_clf.fit(X_train, y_train)\n",
    "results_dict= grid_clf.cv_results_\n",
    "print(\"All F1 scores:\\n\", results_dict[\"mean_test_score\"].reshape(4,2))\n",
    "\n",
    "# plotting all scores on a heatmap\n",
    "plt.figure(figsize=(8, 4))\n",
    "sns.set(font_scale=1.2)\n",
    "sns.heatmap(results_dict[\"mean_test_score\"].reshape(4,2), xticklabels=['L1','L2'], yticklabels=[0.01, 0.1, 1, 10], \\\n",
    "            annot=True, fmt='.4g', cmap=\"YlGnBu\")\n",
    "plt.yticks(rotation=0)\n",
    "plt.xlabel('Penalty', fontsize=14)\n",
    "plt.ylabel('C', fontsize=14)\n",
    "plt.title('GridSearch heatmap', fontsize=16)\n",
    "plt.show()"
   ]
  },
  {
   "cell_type": "markdown",
   "metadata": {},
   "source": [
    "Using a GridSearch approach, the highest $F_1$ score we obtain is 88.55% on the test set, with C=0.1 and an L2 penalty."
   ]
  },
  {
   "cell_type": "markdown",
   "metadata": {},
   "source": [
    "----\n",
    "## Random Forest Classifier\n",
    "Because they rely the combination of multiple 'weak' learners, ensemble methods usually perform well. A Random Forest model combines several decision trees and is less likely to overfit than a single decision tree model.\n",
    "\n",
    "We'll start by training a Random Forest Classifier with default parameters."
   ]
  },
  {
   "cell_type": "code",
   "execution_count": 13,
   "metadata": {},
   "outputs": [
    {
     "name": "stdout",
     "output_type": "stream",
     "text": [
      "Random Forest F1 score:  0.870588235294\n"
     ]
    }
   ],
   "source": [
    "# Random Forest model with default parameters\n",
    "rf= RandomForestClassifier().fit(X_train, y_train)\n",
    "rf_f1= f1_score(y_test, rf.predict(X_test))\n",
    "print(\"Random Forest F1 score: \", rf_f1)"
   ]
  },
  {
   "cell_type": "markdown",
   "metadata": {},
   "source": [
    "With default parameters, the Random Forest Classifier performs worse than the optimised Logistic Regression model. Again, we can use a GridSearch approach to tune its parameters."
   ]
  },
  {
   "cell_type": "code",
   "execution_count": 14,
   "metadata": {},
   "outputs": [
    {
     "name": "stdout",
     "output_type": "stream",
     "text": [
      "Best F1 score:\n",
      " 0.892893660532\n"
     ]
    }
   ],
   "source": [
    "# using GridSearchCV to tune parameters\n",
    "rf2= RandomForestClassifier()\n",
    "grid_values= {\"n_estimators\": [10,15], \"max_depth\": [3,4,5], \"max_features\": [15,20], \"min_samples_split\": [2,3]}\n",
    "grid_rf= GridSearchCV(rf2, param_grid=grid_values, scoring='f1', return_train_score=True)\n",
    "grid_rf.fit(X_train, y_train)\n",
    "print(\"Best F1 score:\\n\", grid_rf.best_score_)"
   ]
  },
  {
   "cell_type": "code",
   "execution_count": 15,
   "metadata": {},
   "outputs": [
    {
     "data": {
      "text/plain": [
       "RandomForestClassifier(bootstrap=True, class_weight=None, criterion='gini',\n",
       "            max_depth=4, max_features=15, max_leaf_nodes=None,\n",
       "            min_impurity_decrease=0.0, min_impurity_split=None,\n",
       "            min_samples_leaf=1, min_samples_split=3,\n",
       "            min_weight_fraction_leaf=0.0, n_estimators=15, n_jobs=1,\n",
       "            oob_score=False, random_state=None, verbose=0,\n",
       "            warm_start=False)"
      ]
     },
     "execution_count": 15,
     "metadata": {},
     "output_type": "execute_result"
    }
   ],
   "source": [
    "# Random Forest model with the highest F1 score\n",
    "grid_rf.best_estimator_"
   ]
  },
  {
   "cell_type": "markdown",
   "metadata": {},
   "source": [
    "After parameter tuning, we obtain a Random Forest model with a $F_1$ score of 89.29%.\n",
    "\n",
    "----\n",
    "## Deep Learning approach\n",
    "\n",
    "In the context of credit card fraud, the ideal model would correctly flag 100% of fraud instances without issuing false positives. A Deep Learning approach may prove to be more powerful than the models we have been using so far.\n",
    "\n",
    "Let's start by creating a function that computes the $F_1$ score (we'll call it when compiling the model)."
   ]
  },
  {
   "cell_type": "code",
   "execution_count": 16,
   "metadata": {},
   "outputs": [],
   "source": [
    "# function to compute the F beta score (here beta=1)\n",
    "def fb_score(y_true, y_pred):\n",
    "    y_pred= K.clip(y_pred, 0, 1)\n",
    "    true_pos= K.sum(K.round(y_true*y_pred)) + K.epsilon() #to avoid /0\n",
    "    false_pos= K.sum(K.round(K.clip(y_pred-y_true, 0, 1)))\n",
    "    false_neg= K.sum(K.round(K.clip(y_true-y_pred, 0, 1)))\n",
    "    precision= true_pos / (true_pos+false_pos)\n",
    "    recall= true_pos / (true_pos+false_neg)\n",
    "    beta=1\n",
    "    fb_score= (1+beta**2) * (precision*recall) / (beta**2*precision + recall + K.epsilon())\n",
    "    return fb_score"
   ]
  },
  {
   "cell_type": "markdown",
   "metadata": {},
   "source": [
    "We take advantage of the Keras framework to build a 5-layer Neural Network consisting of densely connected layers and dropout layers for regularisation. The activation function of the final layer is the sigmoid function."
   ]
  },
  {
   "cell_type": "code",
   "execution_count": 17,
   "metadata": {},
   "outputs": [],
   "source": [
    "# building the model\n",
    "model= Sequential()\n",
    "model.add(Dense(64, activation='relu', input_shape=(29,)))\n",
    "model.add(Dropout(0.5))\n",
    "model.add(Dense(32, activation='relu'))\n",
    "model.add(Dropout(0.5))\n",
    "model.add(Dense(1, activation='sigmoid'))\n",
    "model.compile(loss='binary_crossentropy', optimizer='adam', metrics=[fb_score])"
   ]
  },
  {
   "cell_type": "code",
   "execution_count": 18,
   "metadata": {},
   "outputs": [
    {
     "name": "stdout",
     "output_type": "stream",
     "text": [
      "Epoch 1/5\n",
      "16269/16269 [==============================] - 3s 187us/step - loss: 0.0901 - fb_score: 0.8287\n",
      "Epoch 2/5\n",
      "16269/16269 [==============================] - 2s 151us/step - loss: 0.0313 - fb_score: 0.9275\n",
      "Epoch 3/5\n",
      "16269/16269 [==============================] - 2s 153us/step - loss: 0.0264 - fb_score: 0.9352\n",
      "Epoch 4/5\n",
      "16269/16269 [==============================] - 2s 150us/step - loss: 0.0222 - fb_score: 0.9392\n",
      "Epoch 5/5\n",
      "16269/16269 [==============================] - 2s 151us/step - loss: 0.0201 - fb_score: 0.9449\n"
     ]
    },
    {
     "data": {
      "text/plain": [
       "<keras.callbacks.History at 0x1a1d043e10>"
      ]
     },
     "execution_count": 18,
     "metadata": {},
     "output_type": "execute_result"
    }
   ],
   "source": [
    "# learning\n",
    "model.fit(X_train, y_train, epochs=5, batch_size=16)"
   ]
  },
  {
   "cell_type": "code",
   "execution_count": 19,
   "metadata": {},
   "outputs": [
    {
     "name": "stdout",
     "output_type": "stream",
     "text": [
      "5424/5424 [==============================] - 6s 1ms/step\n",
      "5-layer Neural Network F1 score:  0.996497050848\n"
     ]
    }
   ],
   "source": [
    "# using X_test to predict instances of fraud and computing the F1 score\n",
    "f1_score= model.evaluate(X_test, y_test, batch_size=1)\n",
    "print(\"5-layer Neural Network F1 score: \", f1_score[1])"
   ]
  },
  {
   "cell_type": "markdown",
   "metadata": {},
   "source": [
    "On the test set, our Neural Network model achieves an $F_1$ score of 99.65%, which is a huge improvement from the previous models. \n",
    "\n",
    "It can be useful to have a look at the false positives and false negatives numbers."
   ]
  },
  {
   "cell_type": "code",
   "execution_count": 20,
   "metadata": {},
   "outputs": [
    {
     "data": {
      "text/html": [
       "<div>\n",
       "<style scoped>\n",
       "    .dataframe tbody tr th:only-of-type {\n",
       "        vertical-align: middle;\n",
       "    }\n",
       "\n",
       "    .dataframe tbody tr th {\n",
       "        vertical-align: top;\n",
       "    }\n",
       "\n",
       "    .dataframe thead th {\n",
       "        text-align: right;\n",
       "    }\n",
       "</style>\n",
       "<table border=\"1\" class=\"dataframe\">\n",
       "  <thead>\n",
       "    <tr style=\"text-align: right;\">\n",
       "      <th></th>\n",
       "      <th>Predictions</th>\n",
       "      <th>Truth</th>\n",
       "    </tr>\n",
       "  </thead>\n",
       "  <tbody>\n",
       "    <tr>\n",
       "      <th>11930</th>\n",
       "      <td>0.0</td>\n",
       "      <td>0</td>\n",
       "    </tr>\n",
       "    <tr>\n",
       "      <th>21243</th>\n",
       "      <td>0.0</td>\n",
       "      <td>0</td>\n",
       "    </tr>\n",
       "    <tr>\n",
       "      <th>17316</th>\n",
       "      <td>0.0</td>\n",
       "      <td>0</td>\n",
       "    </tr>\n",
       "    <tr>\n",
       "      <th>1792</th>\n",
       "      <td>0.0</td>\n",
       "      <td>0</td>\n",
       "    </tr>\n",
       "    <tr>\n",
       "      <th>5291</th>\n",
       "      <td>0.0</td>\n",
       "      <td>0</td>\n",
       "    </tr>\n",
       "  </tbody>\n",
       "</table>\n",
       "</div>"
      ],
      "text/plain": [
       "       Predictions  Truth\n",
       "11930          0.0      0\n",
       "21243          0.0      0\n",
       "17316          0.0      0\n",
       "1792           0.0      0\n",
       "5291           0.0      0"
      ]
     },
     "execution_count": 20,
     "metadata": {},
     "output_type": "execute_result"
    }
   ],
   "source": [
    "# making predictions from X_test and rounding the obtained probabilities\n",
    "y_pred= model.predict(X_test)\n",
    "y_pred= np.round(y_pred, decimals=0)\n",
    "\n",
    "# creating a dataframe to compare y_test and y_pred\n",
    "pred_df= pd.DataFrame({\"Predictions\": y_pred.flatten(), \"Truth\": y_test})\n",
    "pred_df.head()"
   ]
  },
  {
   "cell_type": "code",
   "execution_count": 21,
   "metadata": {},
   "outputs": [
    {
     "name": "stdout",
     "output_type": "stream",
     "text": [
      "False negatives:  0.0031342182890855457\n",
      "False positives:  0.0003687315634218289\n",
      "Correct predictions:  0.9964970501474927\n"
     ]
    }
   ],
   "source": [
    "# false negatives\n",
    "num_false_neg= len(pred_df[(pred_df[\"Predictions\"]==0) & (pred_df[\"Truth\"]==1)])\n",
    "print(\"False negatives: \", num_false_neg/len(y_test))\n",
    "\n",
    "# false positives\n",
    "num_false_pos= len(pred_df[(pred_df[\"Predictions\"]==1) & (pred_df[\"Truth\"]==0)])\n",
    "print(\"False positives: \", num_false_pos/len(y_test))\n",
    "\n",
    "# correct predictions (true positives + true negatives)\n",
    "num_correct= len(pred_df[(pred_df[\"Predictions\"]==1) & (pred_df[\"Truth\"]==1)]) + \\\n",
    "                len(pred_df[(pred_df[\"Predictions\"]==0) & (pred_df[\"Truth\"]==0)])\n",
    "print(\"Correct predictions: \", num_correct/len(y_test))"
   ]
  },
  {
   "cell_type": "markdown",
   "metadata": {},
   "source": [
    "Our model issues 0.31% of false negatives and 0.04% of false positives. Its predictions are correct at 99.65%."
   ]
  },
  {
   "cell_type": "markdown",
   "metadata": {},
   "source": [
    "----\n",
    "# Improving performance with more data\n",
    "One of the strengths of Deep Learning is that training a model with more data often improves performance. Let's load the full credit card transactions dataset and re-train our Neural Network with it."
   ]
  },
  {
   "cell_type": "code",
   "execution_count": 23,
   "metadata": {},
   "outputs": [
    {
     "data": {
      "text/html": [
       "<div>\n",
       "<style scoped>\n",
       "    .dataframe tbody tr th:only-of-type {\n",
       "        vertical-align: middle;\n",
       "    }\n",
       "\n",
       "    .dataframe tbody tr th {\n",
       "        vertical-align: top;\n",
       "    }\n",
       "\n",
       "    .dataframe thead th {\n",
       "        text-align: right;\n",
       "    }\n",
       "</style>\n",
       "<table border=\"1\" class=\"dataframe\">\n",
       "  <thead>\n",
       "    <tr style=\"text-align: right;\">\n",
       "      <th></th>\n",
       "      <th>V1</th>\n",
       "      <th>V2</th>\n",
       "      <th>V3</th>\n",
       "      <th>V4</th>\n",
       "      <th>V5</th>\n",
       "      <th>V6</th>\n",
       "      <th>V7</th>\n",
       "      <th>V8</th>\n",
       "      <th>V9</th>\n",
       "      <th>V10</th>\n",
       "      <th>...</th>\n",
       "      <th>V21</th>\n",
       "      <th>V22</th>\n",
       "      <th>V23</th>\n",
       "      <th>V24</th>\n",
       "      <th>V25</th>\n",
       "      <th>V26</th>\n",
       "      <th>V27</th>\n",
       "      <th>V28</th>\n",
       "      <th>Amount</th>\n",
       "      <th>Class</th>\n",
       "    </tr>\n",
       "  </thead>\n",
       "  <tbody>\n",
       "    <tr>\n",
       "      <th>0</th>\n",
       "      <td>-1.359807</td>\n",
       "      <td>-0.072781</td>\n",
       "      <td>2.536347</td>\n",
       "      <td>1.378155</td>\n",
       "      <td>-0.338321</td>\n",
       "      <td>0.462388</td>\n",
       "      <td>0.239599</td>\n",
       "      <td>0.098698</td>\n",
       "      <td>0.363787</td>\n",
       "      <td>0.090794</td>\n",
       "      <td>...</td>\n",
       "      <td>-0.018307</td>\n",
       "      <td>0.277838</td>\n",
       "      <td>-0.110474</td>\n",
       "      <td>0.066928</td>\n",
       "      <td>0.128539</td>\n",
       "      <td>-0.189115</td>\n",
       "      <td>0.133558</td>\n",
       "      <td>-0.021053</td>\n",
       "      <td>149.62</td>\n",
       "      <td>0</td>\n",
       "    </tr>\n",
       "    <tr>\n",
       "      <th>1</th>\n",
       "      <td>1.191857</td>\n",
       "      <td>0.266151</td>\n",
       "      <td>0.166480</td>\n",
       "      <td>0.448154</td>\n",
       "      <td>0.060018</td>\n",
       "      <td>-0.082361</td>\n",
       "      <td>-0.078803</td>\n",
       "      <td>0.085102</td>\n",
       "      <td>-0.255425</td>\n",
       "      <td>-0.166974</td>\n",
       "      <td>...</td>\n",
       "      <td>-0.225775</td>\n",
       "      <td>-0.638672</td>\n",
       "      <td>0.101288</td>\n",
       "      <td>-0.339846</td>\n",
       "      <td>0.167170</td>\n",
       "      <td>0.125895</td>\n",
       "      <td>-0.008983</td>\n",
       "      <td>0.014724</td>\n",
       "      <td>2.69</td>\n",
       "      <td>0</td>\n",
       "    </tr>\n",
       "    <tr>\n",
       "      <th>2</th>\n",
       "      <td>-1.358354</td>\n",
       "      <td>-1.340163</td>\n",
       "      <td>1.773209</td>\n",
       "      <td>0.379780</td>\n",
       "      <td>-0.503198</td>\n",
       "      <td>1.800499</td>\n",
       "      <td>0.791461</td>\n",
       "      <td>0.247676</td>\n",
       "      <td>-1.514654</td>\n",
       "      <td>0.207643</td>\n",
       "      <td>...</td>\n",
       "      <td>0.247998</td>\n",
       "      <td>0.771679</td>\n",
       "      <td>0.909412</td>\n",
       "      <td>-0.689281</td>\n",
       "      <td>-0.327642</td>\n",
       "      <td>-0.139097</td>\n",
       "      <td>-0.055353</td>\n",
       "      <td>-0.059752</td>\n",
       "      <td>378.66</td>\n",
       "      <td>0</td>\n",
       "    </tr>\n",
       "    <tr>\n",
       "      <th>3</th>\n",
       "      <td>-0.966272</td>\n",
       "      <td>-0.185226</td>\n",
       "      <td>1.792993</td>\n",
       "      <td>-0.863291</td>\n",
       "      <td>-0.010309</td>\n",
       "      <td>1.247203</td>\n",
       "      <td>0.237609</td>\n",
       "      <td>0.377436</td>\n",
       "      <td>-1.387024</td>\n",
       "      <td>-0.054952</td>\n",
       "      <td>...</td>\n",
       "      <td>-0.108300</td>\n",
       "      <td>0.005274</td>\n",
       "      <td>-0.190321</td>\n",
       "      <td>-1.175575</td>\n",
       "      <td>0.647376</td>\n",
       "      <td>-0.221929</td>\n",
       "      <td>0.062723</td>\n",
       "      <td>0.061458</td>\n",
       "      <td>123.50</td>\n",
       "      <td>0</td>\n",
       "    </tr>\n",
       "    <tr>\n",
       "      <th>4</th>\n",
       "      <td>-1.158233</td>\n",
       "      <td>0.877737</td>\n",
       "      <td>1.548718</td>\n",
       "      <td>0.403034</td>\n",
       "      <td>-0.407193</td>\n",
       "      <td>0.095921</td>\n",
       "      <td>0.592941</td>\n",
       "      <td>-0.270533</td>\n",
       "      <td>0.817739</td>\n",
       "      <td>0.753074</td>\n",
       "      <td>...</td>\n",
       "      <td>-0.009431</td>\n",
       "      <td>0.798278</td>\n",
       "      <td>-0.137458</td>\n",
       "      <td>0.141267</td>\n",
       "      <td>-0.206010</td>\n",
       "      <td>0.502292</td>\n",
       "      <td>0.219422</td>\n",
       "      <td>0.215153</td>\n",
       "      <td>69.99</td>\n",
       "      <td>0</td>\n",
       "    </tr>\n",
       "  </tbody>\n",
       "</table>\n",
       "<p>5 rows × 30 columns</p>\n",
       "</div>"
      ],
      "text/plain": [
       "         V1        V2        V3        V4        V5        V6        V7  \\\n",
       "0 -1.359807 -0.072781  2.536347  1.378155 -0.338321  0.462388  0.239599   \n",
       "1  1.191857  0.266151  0.166480  0.448154  0.060018 -0.082361 -0.078803   \n",
       "2 -1.358354 -1.340163  1.773209  0.379780 -0.503198  1.800499  0.791461   \n",
       "3 -0.966272 -0.185226  1.792993 -0.863291 -0.010309  1.247203  0.237609   \n",
       "4 -1.158233  0.877737  1.548718  0.403034 -0.407193  0.095921  0.592941   \n",
       "\n",
       "         V8        V9       V10  ...         V21       V22       V23  \\\n",
       "0  0.098698  0.363787  0.090794  ...   -0.018307  0.277838 -0.110474   \n",
       "1  0.085102 -0.255425 -0.166974  ...   -0.225775 -0.638672  0.101288   \n",
       "2  0.247676 -1.514654  0.207643  ...    0.247998  0.771679  0.909412   \n",
       "3  0.377436 -1.387024 -0.054952  ...   -0.108300  0.005274 -0.190321   \n",
       "4 -0.270533  0.817739  0.753074  ...   -0.009431  0.798278 -0.137458   \n",
       "\n",
       "        V24       V25       V26       V27       V28  Amount  Class  \n",
       "0  0.066928  0.128539 -0.189115  0.133558 -0.021053  149.62      0  \n",
       "1 -0.339846  0.167170  0.125895 -0.008983  0.014724    2.69      0  \n",
       "2 -0.689281 -0.327642 -0.139097 -0.055353 -0.059752  378.66      0  \n",
       "3 -1.175575  0.647376 -0.221929  0.062723  0.061458  123.50      0  \n",
       "4  0.141267 -0.206010  0.502292  0.219422  0.215153   69.99      0  \n",
       "\n",
       "[5 rows x 30 columns]"
      ]
     },
     "execution_count": 23,
     "metadata": {},
     "output_type": "execute_result"
    }
   ],
   "source": [
    "# loading the complete dataset from Kaggle\n",
    "full_df= pd.read_csv(\"fraud_data_full.csv\")\n",
    "full_df.head()"
   ]
  },
  {
   "cell_type": "code",
   "execution_count": 24,
   "metadata": {},
   "outputs": [
    {
     "data": {
      "text/plain": [
       "(284807, 30)"
      ]
     },
     "execution_count": 24,
     "metadata": {},
     "output_type": "execute_result"
    }
   ],
   "source": [
    "full_df.shape"
   ]
  },
  {
   "cell_type": "code",
   "execution_count": 25,
   "metadata": {},
   "outputs": [],
   "source": [
    "# scaling the Amount feature\n",
    "scaler= StandardScaler()\n",
    "full_df[\"Amount\"]= scaler.fit_transform(full_df[[\"Amount\"]])\n",
    "\n",
    "# splitting the dataset\n",
    "X= full_df.iloc[:, :-1]\n",
    "y= full_df.iloc[:, -1]\n",
    "X_train, X_test, y_train, y_test= train_test_split(X, y, random_state=1, test_size=0.05)"
   ]
  },
  {
   "cell_type": "code",
   "execution_count": 26,
   "metadata": {},
   "outputs": [
    {
     "name": "stdout",
     "output_type": "stream",
     "text": [
      "Epoch 1/5\n",
      "270566/270566 [==============================] - 11s 40us/step - loss: 0.0043 - fb_score: 0.9519\n",
      "Epoch 2/5\n",
      "270566/270566 [==============================] - 11s 40us/step - loss: 0.0042 - fb_score: 0.9525\n",
      "Epoch 3/5\n",
      "270566/270566 [==============================] - 11s 40us/step - loss: 0.0040 - fb_score: 0.9531\n",
      "Epoch 4/5\n",
      "270566/270566 [==============================] - 11s 40us/step - loss: 0.0037 - fb_score: 0.9587\n",
      "Epoch 5/5\n",
      "270566/270566 [==============================] - 11s 41us/step - loss: 0.0037 - fb_score: 0.9579\n"
     ]
    },
    {
     "data": {
      "text/plain": [
       "<keras.callbacks.History at 0x1a1d0552b0>"
      ]
     },
     "execution_count": 26,
     "metadata": {},
     "output_type": "execute_result"
    }
   ],
   "source": [
    "# fitting the model with the new data\n",
    "model.fit(X_train, y_train, epochs=5, batch_size=64)"
   ]
  },
  {
   "cell_type": "code",
   "execution_count": 27,
   "metadata": {},
   "outputs": [
    {
     "name": "stdout",
     "output_type": "stream",
     "text": [
      "14241/14241 [==============================] - 16s 1ms/step\n",
      "Neural Network trained with bigger dataset F1 score:  0.999368022035\n"
     ]
    }
   ],
   "source": [
    "# using the new X_test to predict instances of fraud and computing the F1 score\n",
    "f1_score= model.evaluate(X_test, y_test, batch_size=1)\n",
    "print(\"Neural Network trained with bigger dataset F1 score: \", f1_score[1])"
   ]
  },
  {
   "cell_type": "markdown",
   "metadata": {},
   "source": [
    "Training the Neural Network with more data indeed leads to an improvement in performance: the model now achieves an $F_1$ score of 99.94%.\n",
    "Let's have a look at the false negatives and false positives numbers issued on the test set when the model is trained with a lot more data."
   ]
  },
  {
   "cell_type": "code",
   "execution_count": 28,
   "metadata": {},
   "outputs": [
    {
     "name": "stdout",
     "output_type": "stream",
     "text": [
      "False negatives:  0.00035109893968120215\n",
      "False positives:  0.00028087915174496175\n",
      "Correct predictions:  0.9993680219085739\n"
     ]
    }
   ],
   "source": [
    "# making predictions from X_test and rounding the obtained probabilities\n",
    "y_pred= model.predict(X_test)\n",
    "y_pred= np.round(y_pred, decimals=0)\n",
    "\n",
    "# creating a dataframe to compare y_test and y_pred\n",
    "pred_df= pd.DataFrame({\"Predictions\": y_pred.flatten(), \"Truth\": y_test})\n",
    "pred_df.head()\n",
    "\n",
    "# false negatives\n",
    "num_false_neg= len(pred_df[(pred_df[\"Predictions\"]==0) & (pred_df[\"Truth\"]==1)])\n",
    "print(\"False negatives: \", num_false_neg/len(y_test))\n",
    "\n",
    "# false positives\n",
    "num_false_pos= len(pred_df[(pred_df[\"Predictions\"]==1) & (pred_df[\"Truth\"]==0)])\n",
    "print(\"False positives: \", num_false_pos/len(y_test))\n",
    "\n",
    "# correct predictions (true positives + true negatives)\n",
    "num_correct= len(pred_df[(pred_df[\"Predictions\"]==1) & (pred_df[\"Truth\"]==1)]) + \\\n",
    "                len(pred_df[(pred_df[\"Predictions\"]==0) & (pred_df[\"Truth\"]==0)])\n",
    "print(\"Correct predictions: \", num_correct/len(y_test))"
   ]
  },
  {
   "cell_type": "markdown",
   "metadata": {},
   "source": [
    "From the results above, we can tell that the number of false positives is now slightly lower (0.03% now vs. 0.04% before). More importantly, we see that training the Neural Network with more data leads to a significant improvement in terms of false negatives. Indeed, the model now issues 0.04% of false negatives (down from 0.31% when the model was trained with the short version of the dataset). This means that our model is now able to successfully detect more fraudulent transactions which it may have missed before.\n"
   ]
  },
  {
   "cell_type": "markdown",
   "metadata": {},
   "source": [
    "----\n",
    "## Conclusion\n"
   ]
  },
  {
   "cell_type": "markdown",
   "metadata": {},
   "source": [
    "In this project, we have used different models to detect credit card fraud. A 5-layer Neural Network achieved the best score by far, and its performance was further improved by training it with more data. In particular, using a bigger dataset led to a lower number of false negatives. In the case of this dataset, a Deep Learning approach was therefore much more efficient than the other models at detecting fraudulent transactions."
   ]
  },
  {
   "cell_type": "code",
   "execution_count": null,
   "metadata": {},
   "outputs": [],
   "source": []
  }
 ],
 "metadata": {
  "kernelspec": {
   "display_name": "Python [conda env:anaconda3]",
   "language": "python",
   "name": "conda-env-anaconda3-py"
  },
  "language_info": {
   "codemirror_mode": {
    "name": "ipython",
    "version": 3
   },
   "file_extension": ".py",
   "mimetype": "text/x-python",
   "name": "python",
   "nbconvert_exporter": "python",
   "pygments_lexer": "ipython3",
   "version": "3.6.3"
  }
 },
 "nbformat": 4,
 "nbformat_minor": 2
}
