{
 "cells": [
  {
   "cell_type": "markdown",
   "metadata": {},
   "source": [
    "# Sentiment analysis: US airlines on Twitter\n",
    "----\n",
    "\n",
    "In this Natural Language Processing project, we predict the sentiment of tweets about different US airlines. We start by preprocessing the tweets (replacing emojis by text, removing hashtags and punctuation, converting to lowercase). We then encode each tweet to a vector of integers. We use a pre-trained GloVe embedding downloaded from [this source](https://nlp.stanford.edu/projects/glove/) and create a weights matrix of the words contained in the tweets. Finally, we build, train and compare the performance of two different Recurrent Neural Network models: a bidirectional GRU and a bidirectional LSTM.\n",
    "\n",
    "The dataset we use is available [here](https://www.kaggle.com/bertcarremans/predicting-sentiment-with-text-features/data). It consists of 11,541 tweets scraped in February 2015 categorised as negative or positive."
   ]
  },
  {
   "cell_type": "code",
   "execution_count": 1,
   "metadata": {},
   "outputs": [
    {
     "name": "stderr",
     "output_type": "stream",
     "text": [
      "Using TensorFlow backend.\n"
     ]
    }
   ],
   "source": [
    "import numpy as np\n",
    "import pandas as pd\n",
    "import matplotlib.pyplot as plt\n",
    "import seaborn as sns\n",
    "% matplotlib inline\n",
    "import emoji\n",
    "import re\n",
    "from sklearn.model_selection import train_test_split\n",
    "from keras import backend as K\n",
    "from keras.preprocessing.text import Tokenizer\n",
    "from keras.preprocessing.sequence import pad_sequences\n",
    "from keras.models import Sequential\n",
    "from keras.layers import Embedding, Dense, Dropout, Bidirectional, GRU, LSTM, SpatialDropout1D, GlobalMaxPooling1D"
   ]
  },
  {
   "cell_type": "code",
   "execution_count": 2,
   "metadata": {},
   "outputs": [
    {
     "data": {
      "text/html": [
       "<div>\n",
       "<style scoped>\n",
       "    .dataframe tbody tr th:only-of-type {\n",
       "        vertical-align: middle;\n",
       "    }\n",
       "\n",
       "    .dataframe tbody tr th {\n",
       "        vertical-align: top;\n",
       "    }\n",
       "\n",
       "    .dataframe thead th {\n",
       "        text-align: right;\n",
       "    }\n",
       "</style>\n",
       "<table border=\"1\" class=\"dataframe\">\n",
       "  <thead>\n",
       "    <tr style=\"text-align: right;\">\n",
       "      <th></th>\n",
       "      <th>airline_sentiment</th>\n",
       "      <th>text</th>\n",
       "    </tr>\n",
       "  </thead>\n",
       "  <tbody>\n",
       "    <tr>\n",
       "      <th>0</th>\n",
       "      <td>positive</td>\n",
       "      <td>@VirginAmerica plus you've added commercials t...</td>\n",
       "    </tr>\n",
       "    <tr>\n",
       "      <th>1</th>\n",
       "      <td>negative</td>\n",
       "      <td>@VirginAmerica it's really aggressive to blast...</td>\n",
       "    </tr>\n",
       "    <tr>\n",
       "      <th>2</th>\n",
       "      <td>negative</td>\n",
       "      <td>@VirginAmerica and it's a really big bad thing...</td>\n",
       "    </tr>\n",
       "    <tr>\n",
       "      <th>3</th>\n",
       "      <td>negative</td>\n",
       "      <td>@VirginAmerica seriously would pay $30 a fligh...</td>\n",
       "    </tr>\n",
       "    <tr>\n",
       "      <th>4</th>\n",
       "      <td>positive</td>\n",
       "      <td>@VirginAmerica yes, nearly every time I fly VX...</td>\n",
       "    </tr>\n",
       "  </tbody>\n",
       "</table>\n",
       "</div>"
      ],
      "text/plain": [
       "  airline_sentiment                                               text\n",
       "0          positive  @VirginAmerica plus you've added commercials t...\n",
       "1          negative  @VirginAmerica it's really aggressive to blast...\n",
       "2          negative  @VirginAmerica and it's a really big bad thing...\n",
       "3          negative  @VirginAmerica seriously would pay $30 a fligh...\n",
       "4          positive  @VirginAmerica yes, nearly every time I fly VX..."
      ]
     },
     "execution_count": 2,
     "metadata": {},
     "output_type": "execute_result"
    }
   ],
   "source": [
    "# loading the dataset\n",
    "df= pd.read_csv(\"airline_tweets.csv\")\n",
    "df.head()"
   ]
  },
  {
   "cell_type": "markdown",
   "metadata": {},
   "source": [
    "Using Seaborn, let's have a look at the classes representation to pick an appropriate evaluation metric. "
   ]
  },
  {
   "cell_type": "code",
   "execution_count": 3,
   "metadata": {},
   "outputs": [
    {
     "data": {
      "text/plain": [
       "<matplotlib.axes._subplots.AxesSubplot at 0x10d6a9208>"
      ]
     },
     "execution_count": 3,
     "metadata": {},
     "output_type": "execute_result"
    },
    {
     "data": {
      "image/png": "[encoded data removed]",
      "text/plain": [
       "<matplotlib.figure.Figure at 0x10792a7b8>"
      ]
     },
     "metadata": {},
     "output_type": "display_data"
    }
   ],
   "source": [
    "# visualising the number of negative/positive reviews\n",
    "sns.set(font_scale=1.2)\n",
    "sns.countplot(y=\"airline_sentiment\", data=df, palette=\"GnBu_d\")"
   ]
  },
  {
   "cell_type": "markdown",
   "metadata": {},
   "source": [
    "Because the classes are imbalanced, we won't use accuracy as a metric to assess our models performance. Instead, we will compute their $F_1$ score.\n",
    "\n",
    "We also map labels to 0 and 1 instead of \"negative\" and \"positive\"."
   ]
  },
  {
   "cell_type": "code",
   "execution_count": 4,
   "metadata": {},
   "outputs": [],
   "source": [
    "# mapping labels\n",
    "df[\"airline_sentiment\"]= df[\"airline_sentiment\"].map({\"negative\":0, \"positive\":1})"
   ]
  },
  {
   "cell_type": "markdown",
   "metadata": {},
   "source": [
    "----\n",
    "## Preprocessing tweets\n",
    "A crucial step in Natural Language Processing projects is text preprocessing. In our case, most tweets contain hashtags and some contain emojis, as we can see from the two examples below."
   ]
  },
  {
   "cell_type": "code",
   "execution_count": 5,
   "metadata": {},
   "outputs": [
    {
     "name": "stdout",
     "output_type": "stream",
     "text": [
      "I ❤️ flying @VirginAmerica. ☺️👍\n",
      "@VirginAmerica omg omg😍😍 nonstop Dallas to Austin on virgin✨😱✈️\n"
     ]
    }
   ],
   "source": [
    "# examples of tweets that need preprocessing\n",
    "print(df[\"text\"].iloc[14])\n",
    "print(df[\"text\"].iloc[261])"
   ]
  },
  {
   "cell_type": "markdown",
   "metadata": {},
   "source": [
    "Because emojis reflect the mood of the person using them, they can be very useful in our sentiment analysis. Instead of just removing them, we use emoji.demojize() to convert them to words."
   ]
  },
  {
   "cell_type": "code",
   "execution_count": 6,
   "metadata": {},
   "outputs": [],
   "source": [
    "# cleaning tweets \n",
    "def preprocess(df):\n",
    "    # converting emojis to words\n",
    "    tweet= emoji.demojize(df[\"text\"])\n",
    "    # removing words starting with @ and converting to lowercase\n",
    "    words_without_at= []\n",
    "    for w in tweet.split():\n",
    "        if w.startswith(\"@\"):\n",
    "            continue\n",
    "        else:\n",
    "            words_without_at.append(str.lower(w))\n",
    "    tweet= \" \".join(words_without_at)\n",
    "    # removing non-word characters\n",
    "    words_list= re.findall(\"[\\w]+\", tweet)\n",
    "    return \" \".join(words_list)\n",
    "\n",
    "df[\"text\"]= df.apply(preprocess, axis=1)"
   ]
  },
  {
   "cell_type": "code",
   "execution_count": 7,
   "metadata": {},
   "outputs": [
    {
     "name": "stdout",
     "output_type": "stream",
     "text": [
      "i red_heart flying smiling_face thumbs_up\n",
      "omg omg smiling_face_with_heart eyes smiling_face_with_heart eyes nonstop dallas to austin on virgin sparkles face_screaming_in_fear airplane\n"
     ]
    }
   ],
   "source": [
    "# same examples after preprocessing\n",
    "print(df[\"text\"].iloc[14])\n",
    "print(df[\"text\"].iloc[261])"
   ]
  },
  {
   "cell_type": "markdown",
   "metadata": {},
   "source": [
    "Note that, because we are using Recurrent Neural Networks in this project, we keep the stop-words. RNNs are indeed able to handle these very common words (getting rid of them actually worsened the models performance, not shown in this notebook)."
   ]
  },
  {
   "cell_type": "markdown",
   "metadata": {},
   "source": [
    "----\n",
    "## Creating the weights matrix\n",
    "We create a vocabulary with the Tokenizer tool from Keras, then encode each tweet into a vector of integers. We also set a maximum size of 25 words per tweet and pad short tweets with zeros. Note that the few tweets that are longer than 25 words will be truncated."
   ]
  },
  {
   "cell_type": "code",
   "execution_count": 8,
   "metadata": {},
   "outputs": [
    {
     "data": {
      "text/plain": [
       "(11541, 25)"
      ]
     },
     "execution_count": 8,
     "metadata": {},
     "output_type": "execute_result"
    }
   ],
   "source": [
    "# preparing the tokenizer\n",
    "tok= Tokenizer()\n",
    "tok.fit_on_texts(df[\"text\"])\n",
    "vocab_size= len(tok.word_index)+1\n",
    "\n",
    "# integer encoding\n",
    "encoded_tweets= tok.texts_to_sequences(df[\"text\"])\n",
    "\n",
    "# padding reviews to a max length of 25 words (truncating reviews longer than 25)\n",
    "tweet_len= 25\n",
    "padded_tweets= pad_sequences(encoded_tweets, maxlen=tweet_len, padding=\"post\")\n",
    "padded_tweets.shape"
   ]
  },
  {
   "cell_type": "markdown",
   "metadata": {},
   "source": [
    "Next, we load a pre-trained GloVe embedding downloaded from [here](https://nlp.stanford.edu/projects/glove/). It corresponds to a 400,000-word vocabulary where each word is represented by a 300-dimensional vector. We store it in a dictionary."
   ]
  },
  {
   "cell_type": "code",
   "execution_count": 9,
   "metadata": {},
   "outputs": [],
   "source": [
    "# loading the pre-trained GloVe embedding\n",
    "embeddings_index= dict()\n",
    "glove= open(\"glove.6B.300d.txt\")\n",
    "dimension= 300\n",
    "for line in glove:\n",
    "    values= line.split()\n",
    "    word= values[0]\n",
    "    coefs= np.asarray(values[1:], dtype=\"float32\")\n",
    "    embeddings_index[word]= coefs\n",
    "glove.close()"
   ]
  },
  {
   "cell_type": "markdown",
   "metadata": {},
   "source": [
    "Finally, we use the dictionary of pre-trained embeddings to create a matrix of weights for each word in the tweets."
   ]
  },
  {
   "cell_type": "code",
   "execution_count": 10,
   "metadata": {},
   "outputs": [],
   "source": [
    "# creating a weights matrix for each word in the tweets\n",
    "embedding_matrix= np.zeros((vocab_size, dimension))\n",
    "for word, index in tok.word_index.items():\n",
    "    embedding_vector= embeddings_index.get(word)\n",
    "    if embedding_vector is not None:\n",
    "        embedding_matrix[index]= embedding_vector"
   ]
  },
  {
   "cell_type": "markdown",
   "metadata": {},
   "source": [
    "----\n",
    "## Predicting tweet sentiment with RNNs\n",
    "As mentioned previously, we cannot rely on accuracy to evaluate performance. We need to create a function that computes the $F_1$ score in order to be able to call it when compiling our models.\n",
    "\n",
    "We also split the dataset."
   ]
  },
  {
   "cell_type": "code",
   "execution_count": 11,
   "metadata": {},
   "outputs": [],
   "source": [
    "# function to compute the F beta score (here beta=1)\n",
    "def fb_score(y_true, y_pred):\n",
    "    y_pred= K.clip(y_pred, 0, 1)\n",
    "    true_pos= K.sum(K.round(y_true*y_pred)) + K.epsilon() #to avoid /0\n",
    "    false_pos= K.sum(K.round(K.clip(y_pred-y_true, 0, 1)))\n",
    "    false_neg= K.sum(K.round(K.clip(y_true-y_pred, 0, 1)))\n",
    "    precision= true_pos / (true_pos+false_pos)\n",
    "    recall= true_pos / (true_pos+false_neg)\n",
    "    beta=1\n",
    "    fb_score= (1+beta**2) * (precision*recall) / (beta**2*precision + recall + K.epsilon())\n",
    "    return fb_score\n",
    "\n",
    "# splitting the dataset\n",
    "X_train, X_test, y_train, y_test= train_test_split(padded_tweets, df[\"airline_sentiment\"], test_size=0.1, random_state=0)"
   ]
  },
  {
   "cell_type": "markdown",
   "metadata": {},
   "source": [
    "### 1. Bidirectional GRU\n",
    "For both models, we set `trainable=False` because our dataset is relatively small."
   ]
  },
  {
   "cell_type": "code",
   "execution_count": 14,
   "metadata": {},
   "outputs": [
    {
     "name": "stdout",
     "output_type": "stream",
     "text": [
      "1155/1155 [==============================] - 8s 7ms/step\n",
      "Bidirectional GRU model F1 score on test set:  0.933333346667\n"
     ]
    }
   ],
   "source": [
    "# building the GRU model\n",
    "gru_model= Sequential()\n",
    "gru_model.add(Embedding(vocab_size, dimension, weights=[embedding_matrix], trainable=False))\n",
    "gru_model.add(SpatialDropout1D(0.2))\n",
    "gru_model.add(Bidirectional(GRU(128, return_sequences=True)))\n",
    "gru_model.add(GlobalMaxPooling1D())\n",
    "gru_model.add(Dense(1, activation=\"sigmoid\"))\n",
    "\n",
    "# compiling\n",
    "gru_model.compile(loss=\"binary_crossentropy\", optimizer=\"adam\", metrics=[fb_score])\n",
    "\n",
    "# fitting\n",
    "gru_model.fit(X_train, y_train, epochs=5, batch_size=64, verbose=0)\n",
    "\n",
    "# evaluating the GRU on the test set\n",
    "gru_f1_score= gru_model.evaluate(X_test, y_test, batch_size=1)\n",
    "print(\"Bidirectional GRU model F1 score on test set: \", gru_f1_score[1])"
   ]
  },
  {
   "cell_type": "markdown",
   "metadata": {},
   "source": [
    "With such a bidirectional GRU model, we obtain an $F_1$ score of 93.33% on the test set. Let's see if a bidirectional LSTM can beat it."
   ]
  },
  {
   "cell_type": "markdown",
   "metadata": {},
   "source": [
    "### 2. Bidirectional LSTM"
   ]
  },
  {
   "cell_type": "code",
   "execution_count": 13,
   "metadata": {},
   "outputs": [
    {
     "name": "stdout",
     "output_type": "stream",
     "text": [
      "1155/1155 [==============================] - 9s 8ms/step\n",
      "Bidirectional LSTM model F1 score on test set:  0.930735944589\n"
     ]
    }
   ],
   "source": [
    "# building the LSTM model\n",
    "lstm_model= Sequential() \n",
    "lstm_model.add(Embedding(vocab_size, dimension, weights=[embedding_matrix], trainable=False))\n",
    "lstm_model.add(Bidirectional(LSTM(128, return_sequences=True, dropout=0.5, recurrent_dropout=0.5)))\n",
    "lstm_model.add(GlobalMaxPooling1D())\n",
    "lstm_model.add(Dense(64, activation=\"relu\"))\n",
    "lstm_model.add(Dropout(0.5))\n",
    "lstm_model.add(Dense(1, activation=\"sigmoid\"))\n",
    "\n",
    "# compiling\n",
    "lstm_model.compile(loss=\"binary_crossentropy\", optimizer=\"adam\", metrics=[fb_score])\n",
    "\n",
    "# fitting\n",
    "lstm_model.fit(X_train, y_train, epochs=6, batch_size=64, verbose=0)\n",
    "\n",
    "# evaluating the LSTM on the test set\n",
    "lstm_f1_score= lstm_model.evaluate(X_test, y_test, batch_size=1)\n",
    "print(\"Bidirectional LSTM model F1 score on test set: \", lstm_f1_score[1])"
   ]
  },
  {
   "cell_type": "markdown",
   "metadata": {},
   "source": [
    "This bidirectional LSTM model has an $F_1$ score of 93.07% on the test set. This is slightly less than the $F_1$ score of the bidirectional GRU model."
   ]
  },
  {
   "cell_type": "markdown",
   "metadata": {},
   "source": [
    "----\n",
    "## Conclusion\n",
    "In this sentiment classification project, we used a word embeddings approach to predict the sentiment of tweets regarding different US airlines. After preprocessing the tweets (replacing emojis by text, removing hashtags and punctuation, converting to lowercase), we encoded each of them to a vector of integers. We then took advantage of a pre-trained GloVe embedding to create a weights matrix of the tweets words. We built and trained two different Recurrent Neural Network models: a bidirectional GRU and a bidirectional LSTM. The best performance on the test set was achieved by the bidirectional GRU model with an $F_1$ score of 93.33%.\n"
   ]
  },
  {
   "cell_type": "code",
   "execution_count": null,
   "metadata": {},
   "outputs": [],
   "source": []
  }
 ],
 "metadata": {
  "kernelspec": {
   "display_name": "Python [conda env:anaconda3]",
   "language": "python",
   "name": "conda-env-anaconda3-py"
  },
  "language_info": {
   "codemirror_mode": {
    "name": "ipython",
    "version": 3
   },
   "file_extension": ".py",
   "mimetype": "text/x-python",
   "name": "python",
   "nbconvert_exporter": "python",
   "pygments_lexer": "ipython3",
   "version": "3.6.3"
  }
 },
 "nbformat": 4,
 "nbformat_minor": 2
}
