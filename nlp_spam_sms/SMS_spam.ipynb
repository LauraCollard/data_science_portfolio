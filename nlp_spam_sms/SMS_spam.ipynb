{
 "cells": [
  {
   "cell_type": "markdown",
   "metadata": {},
   "source": [
    "# Detecting spam text messages\n",
    "----\n",
    "\n",
    "The aim of this Natural Language Processing project is to predict whether a text message is spam or legitimate. We take the following steps:\n",
    "- preprocessing: \n",
    "    - making text lowercase\n",
    "    - removing punctuation\n",
    "    - removing stop-words\n",
    "    - stemming words\n",
    "- new features generation\n",
    "- bag-of-words approach comparison: CountVectorizer vs. TfidfVectorizer\n",
    "- classifiers: Logistic Regression, Multinomial Naive Bayes, Support Vector Classifier\n",
    "- final model optimisation\n",
    "\n",
    "The dataset we use is from the UCI Machine Learning Repository and is [available here](https://www.kaggle.com/uciml/sms-spam-collection-dataset). It is a collection of 5,572 text messages tagged legitimate (0) or spam (1)."
   ]
  },
  {
   "cell_type": "code",
   "execution_count": 1,
   "metadata": {},
   "outputs": [],
   "source": [
    "import numpy as np\n",
    "import pandas as pd\n",
    "import matplotlib.pyplot as plt\n",
    "import seaborn as sns\n",
    "%matplotlib inline\n",
    "import re\n",
    "from nltk.corpus import stopwords\n",
    "stopwords= stopwords.words(\"english\")\n",
    "from nltk.stem.porter import PorterStemmer\n",
    "from scipy.sparse import csr_matrix, hstack\n",
    "from sklearn.model_selection import train_test_split\n",
    "from sklearn.feature_extraction.text import CountVectorizer, TfidfVectorizer\n",
    "from sklearn.linear_model import LogisticRegression\n",
    "from sklearn.naive_bayes import MultinomialNB\n",
    "from sklearn.svm import SVC\n",
    "from sklearn.metrics import roc_auc_score, roc_curve, auc\n",
    "from sklearn.model_selection import GridSearchCV"
   ]
  },
  {
   "cell_type": "code",
   "execution_count": 2,
   "metadata": {},
   "outputs": [
    {
     "data": {
      "text/html": [
       "<div>\n",
       "<style scoped>\n",
       "    .dataframe tbody tr th:only-of-type {\n",
       "        vertical-align: middle;\n",
       "    }\n",
       "\n",
       "    .dataframe tbody tr th {\n",
       "        vertical-align: top;\n",
       "    }\n",
       "\n",
       "    .dataframe thead th {\n",
       "        text-align: right;\n",
       "    }\n",
       "</style>\n",
       "<table border=\"1\" class=\"dataframe\">\n",
       "  <thead>\n",
       "    <tr style=\"text-align: right;\">\n",
       "      <th></th>\n",
       "      <th>text</th>\n",
       "      <th>target</th>\n",
       "    </tr>\n",
       "  </thead>\n",
       "  <tbody>\n",
       "    <tr>\n",
       "      <th>0</th>\n",
       "      <td>Go until jurong point, crazy.. Available only ...</td>\n",
       "      <td>0</td>\n",
       "    </tr>\n",
       "    <tr>\n",
       "      <th>1</th>\n",
       "      <td>Ok lar... Joking wif u oni...</td>\n",
       "      <td>0</td>\n",
       "    </tr>\n",
       "    <tr>\n",
       "      <th>2</th>\n",
       "      <td>Free entry in 2 a wkly comp to win FA Cup fina...</td>\n",
       "      <td>1</td>\n",
       "    </tr>\n",
       "    <tr>\n",
       "      <th>3</th>\n",
       "      <td>U dun say so early hor... U c already then say...</td>\n",
       "      <td>0</td>\n",
       "    </tr>\n",
       "    <tr>\n",
       "      <th>4</th>\n",
       "      <td>Nah I don't think he goes to usf, he lives aro...</td>\n",
       "      <td>0</td>\n",
       "    </tr>\n",
       "    <tr>\n",
       "      <th>5</th>\n",
       "      <td>FreeMsg Hey there darling it's been 3 week's n...</td>\n",
       "      <td>1</td>\n",
       "    </tr>\n",
       "    <tr>\n",
       "      <th>6</th>\n",
       "      <td>Even my brother is not like to speak with me. ...</td>\n",
       "      <td>0</td>\n",
       "    </tr>\n",
       "    <tr>\n",
       "      <th>7</th>\n",
       "      <td>As per your request 'Melle Melle (Oru Minnamin...</td>\n",
       "      <td>0</td>\n",
       "    </tr>\n",
       "  </tbody>\n",
       "</table>\n",
       "</div>"
      ],
      "text/plain": [
       "                                                text  target\n",
       "0  Go until jurong point, crazy.. Available only ...       0\n",
       "1                      Ok lar... Joking wif u oni...       0\n",
       "2  Free entry in 2 a wkly comp to win FA Cup fina...       1\n",
       "3  U dun say so early hor... U c already then say...       0\n",
       "4  Nah I don't think he goes to usf, he lives aro...       0\n",
       "5  FreeMsg Hey there darling it's been 3 week's n...       1\n",
       "6  Even my brother is not like to speak with me. ...       0\n",
       "7  As per your request 'Melle Melle (Oru Minnamin...       0"
      ]
     },
     "execution_count": 2,
     "metadata": {},
     "output_type": "execute_result"
    }
   ],
   "source": [
    "# loading the dataset\n",
    "df= pd.read_csv(\"SMS_spam.csv\")\n",
    "df.head(8)"
   ]
  },
  {
   "cell_type": "markdown",
   "metadata": {},
   "source": [
    "A quick look at the above dataframe suggests that the classes are imbalanced. Let's visualise the number of spam vs. non-spam texts."
   ]
  },
  {
   "cell_type": "code",
   "execution_count": 3,
   "metadata": {},
   "outputs": [
    {
     "name": "stdout",
     "output_type": "stream",
     "text": [
      "Spam texts:  0.13406317300789664\n"
     ]
    },
    {
     "data": {
      "image/png": "[encoded data removed]",
      "text/plain": [
       "<matplotlib.figure.Figure at 0x10c7a5d68>"
      ]
     },
     "metadata": {},
     "output_type": "display_data"
    }
   ],
   "source": [
    "# visualising the number of genuine (0) vs. spam texts (1)\n",
    "sns.set(font_scale=1.2)\n",
    "sns.countplot(y=\"target\", data=df, palette=\"GnBu_d\")\n",
    "print(\"Spam texts: \", len(df[df[\"target\"]==1])/len(df))"
   ]
  },
  {
   "cell_type": "markdown",
   "metadata": {},
   "source": [
    "The classes are indeed imbalanced: only 13.4% of texts are spam messages. For this reason, accuracy is not an appropriate metric to evaluate the performance of our models. A Dummy Classifier that always predicts the most frequent class would indeed be about 86% accurate. \n",
    "\n",
    "Instead, we will compute the Area Under the Receiver Operating Characteristic Curve (ROC AUC) score."
   ]
  },
  {
   "cell_type": "markdown",
   "metadata": {},
   "source": [
    "----\n",
    "## Preprocessing\n",
    "Text preprocessing is an important part of Natural Language Processing tasks. Let's start by making all letters lowercase and getting rid of punctuation."
   ]
  },
  {
   "cell_type": "code",
   "execution_count": 4,
   "metadata": {},
   "outputs": [
    {
     "data": {
      "text/html": [
       "<div>\n",
       "<style scoped>\n",
       "    .dataframe tbody tr th:only-of-type {\n",
       "        vertical-align: middle;\n",
       "    }\n",
       "\n",
       "    .dataframe tbody tr th {\n",
       "        vertical-align: top;\n",
       "    }\n",
       "\n",
       "    .dataframe thead th {\n",
       "        text-align: right;\n",
       "    }\n",
       "</style>\n",
       "<table border=\"1\" class=\"dataframe\">\n",
       "  <thead>\n",
       "    <tr style=\"text-align: right;\">\n",
       "      <th></th>\n",
       "      <th>text</th>\n",
       "      <th>target</th>\n",
       "    </tr>\n",
       "  </thead>\n",
       "  <tbody>\n",
       "    <tr>\n",
       "      <th>0</th>\n",
       "      <td>go until jurong point crazy available only in ...</td>\n",
       "      <td>0</td>\n",
       "    </tr>\n",
       "    <tr>\n",
       "      <th>1</th>\n",
       "      <td>ok lar joking wif u oni</td>\n",
       "      <td>0</td>\n",
       "    </tr>\n",
       "    <tr>\n",
       "      <th>2</th>\n",
       "      <td>free entry in 2 a wkly comp to win fa cup fina...</td>\n",
       "      <td>1</td>\n",
       "    </tr>\n",
       "    <tr>\n",
       "      <th>3</th>\n",
       "      <td>u dun say so early hor u c already then say</td>\n",
       "      <td>0</td>\n",
       "    </tr>\n",
       "    <tr>\n",
       "      <th>4</th>\n",
       "      <td>nah i don t think he goes to usf he lives arou...</td>\n",
       "      <td>0</td>\n",
       "    </tr>\n",
       "  </tbody>\n",
       "</table>\n",
       "</div>"
      ],
      "text/plain": [
       "                                                text  target\n",
       "0  go until jurong point crazy available only in ...       0\n",
       "1                            ok lar joking wif u oni       0\n",
       "2  free entry in 2 a wkly comp to win fa cup fina...       1\n",
       "3        u dun say so early hor u c already then say       0\n",
       "4  nah i don t think he goes to usf he lives arou...       0"
      ]
     },
     "execution_count": 4,
     "metadata": {},
     "output_type": "execute_result"
    }
   ],
   "source": [
    "# cleaning texts\n",
    "def text_cleaning(df):\n",
    "    text= df[\"text\"]\n",
    "    # making lowercase\n",
    "    text= str.lower(text)\n",
    "    # removing punctuation\n",
    "    word_list= re.findall('[\\w]+', text)\n",
    "    return \" \".join(word_list)\n",
    "\n",
    "df[\"text\"]= df.apply(text_cleaning, axis=1)\n",
    "df.head()"
   ]
  },
  {
   "cell_type": "markdown",
   "metadata": {},
   "source": [
    "Another typical preprocessing task is to remove very common words that do not carry much information, called stop-words. We can simply use the list of stop-words that we have imported from NLTK earlier."
   ]
  },
  {
   "cell_type": "code",
   "execution_count": 5,
   "metadata": {},
   "outputs": [
    {
     "data": {
      "text/html": [
       "<div>\n",
       "<style scoped>\n",
       "    .dataframe tbody tr th:only-of-type {\n",
       "        vertical-align: middle;\n",
       "    }\n",
       "\n",
       "    .dataframe tbody tr th {\n",
       "        vertical-align: top;\n",
       "    }\n",
       "\n",
       "    .dataframe thead th {\n",
       "        text-align: right;\n",
       "    }\n",
       "</style>\n",
       "<table border=\"1\" class=\"dataframe\">\n",
       "  <thead>\n",
       "    <tr style=\"text-align: right;\">\n",
       "      <th></th>\n",
       "      <th>text</th>\n",
       "      <th>target</th>\n",
       "    </tr>\n",
       "  </thead>\n",
       "  <tbody>\n",
       "    <tr>\n",
       "      <th>0</th>\n",
       "      <td>go jurong point crazy available bugis n great ...</td>\n",
       "      <td>0</td>\n",
       "    </tr>\n",
       "    <tr>\n",
       "      <th>1</th>\n",
       "      <td>ok lar joking wif u oni</td>\n",
       "      <td>0</td>\n",
       "    </tr>\n",
       "    <tr>\n",
       "      <th>2</th>\n",
       "      <td>free entry 2 wkly comp win fa cup final tkts 2...</td>\n",
       "      <td>1</td>\n",
       "    </tr>\n",
       "    <tr>\n",
       "      <th>3</th>\n",
       "      <td>u dun say early hor u c already say</td>\n",
       "      <td>0</td>\n",
       "    </tr>\n",
       "    <tr>\n",
       "      <th>4</th>\n",
       "      <td>nah think goes usf lives around though</td>\n",
       "      <td>0</td>\n",
       "    </tr>\n",
       "  </tbody>\n",
       "</table>\n",
       "</div>"
      ],
      "text/plain": [
       "                                                text  target\n",
       "0  go jurong point crazy available bugis n great ...       0\n",
       "1                            ok lar joking wif u oni       0\n",
       "2  free entry 2 wkly comp win fa cup final tkts 2...       1\n",
       "3                u dun say early hor u c already say       0\n",
       "4             nah think goes usf lives around though       0"
      ]
     },
     "execution_count": 5,
     "metadata": {},
     "output_type": "execute_result"
    }
   ],
   "source": [
    "# removing stopwords\n",
    "def remove_stopwords(df):\n",
    "    text= df[\"text\"]\n",
    "    words=[]\n",
    "    for w in text.split():\n",
    "        if w not in stopwords:\n",
    "            words.append(w)\n",
    "    return \" \".join(words)\n",
    "\n",
    "df[\"text\"]= df.apply(remove_stopwords, axis=1)\n",
    "df.head()"
   ]
  },
  {
   "cell_type": "markdown",
   "metadata": {},
   "source": [
    "Finally, let's use the PorterStemmer from NLTK to only keep the stem of the words in each text message."
   ]
  },
  {
   "cell_type": "code",
   "execution_count": 6,
   "metadata": {},
   "outputs": [
    {
     "data": {
      "text/html": [
       "<div>\n",
       "<style scoped>\n",
       "    .dataframe tbody tr th:only-of-type {\n",
       "        vertical-align: middle;\n",
       "    }\n",
       "\n",
       "    .dataframe tbody tr th {\n",
       "        vertical-align: top;\n",
       "    }\n",
       "\n",
       "    .dataframe thead th {\n",
       "        text-align: right;\n",
       "    }\n",
       "</style>\n",
       "<table border=\"1\" class=\"dataframe\">\n",
       "  <thead>\n",
       "    <tr style=\"text-align: right;\">\n",
       "      <th></th>\n",
       "      <th>text</th>\n",
       "      <th>target</th>\n",
       "    </tr>\n",
       "  </thead>\n",
       "  <tbody>\n",
       "    <tr>\n",
       "      <th>0</th>\n",
       "      <td>go jurong point crazi avail bugi n great world...</td>\n",
       "      <td>0</td>\n",
       "    </tr>\n",
       "    <tr>\n",
       "      <th>1</th>\n",
       "      <td>ok lar joke wif u oni</td>\n",
       "      <td>0</td>\n",
       "    </tr>\n",
       "    <tr>\n",
       "      <th>2</th>\n",
       "      <td>free entri 2 wkli comp win fa cup final tkt 21...</td>\n",
       "      <td>1</td>\n",
       "    </tr>\n",
       "    <tr>\n",
       "      <th>3</th>\n",
       "      <td>u dun say earli hor u c alreadi say</td>\n",
       "      <td>0</td>\n",
       "    </tr>\n",
       "    <tr>\n",
       "      <th>4</th>\n",
       "      <td>nah think goe usf live around though</td>\n",
       "      <td>0</td>\n",
       "    </tr>\n",
       "  </tbody>\n",
       "</table>\n",
       "</div>"
      ],
      "text/plain": [
       "                                                text  target\n",
       "0  go jurong point crazi avail bugi n great world...       0\n",
       "1                              ok lar joke wif u oni       0\n",
       "2  free entri 2 wkli comp win fa cup final tkt 21...       1\n",
       "3                u dun say earli hor u c alreadi say       0\n",
       "4               nah think goe usf live around though       0"
      ]
     },
     "execution_count": 6,
     "metadata": {},
     "output_type": "execute_result"
    }
   ],
   "source": [
    "# stemming words with PorterStemmer\n",
    "def stem(df):\n",
    "    stemmer= PorterStemmer()\n",
    "    text= df[\"text\"]\n",
    "    words=[]\n",
    "    for w in text.split():\n",
    "        words.append(stemmer.stem(w))\n",
    "    return \" \".join(words)\n",
    "\n",
    "df[\"text\"]= df.apply(stem, axis=1)\n",
    "df.head()"
   ]
  },
  {
   "cell_type": "markdown",
   "metadata": {},
   "source": [
    "----\n",
    "## Feature generation from text messages\n",
    "Extracting new features from the text messages that we have can improve model performance. First, let's have a look at the length of spam/non-spam text messages."
   ]
  },
  {
   "cell_type": "code",
   "execution_count": 7,
   "metadata": {},
   "outputs": [
    {
     "data": {
      "text/plain": [
       "<seaborn.axisgrid.FacetGrid at 0x112df02b0>"
      ]
     },
     "execution_count": 7,
     "metadata": {},
     "output_type": "execute_result"
    },
    {
     "data": {
      "image/png": "[encoded data removed]",
      "text/plain": [
       "<matplotlib.figure.Figure at 0x109e0cba8>"
      ]
     },
     "metadata": {},
     "output_type": "display_data"
    }
   ],
   "source": [
    "# calculating the length of each text message\n",
    "def get_length(df):\n",
    "    return len(df[\"text\"])\n",
    "\n",
    "df[\"text length\"]= df.apply(get_length, axis=1)\n",
    "\n",
    "# visualising text length for both classes\n",
    "sns.set(font_scale=1.2)\n",
    "fig= sns.FacetGrid(df, hue=\"target\", size=4, aspect=2, palette=\"GnBu_d\")\n",
    "fig.map(sns.kdeplot, \"text length\", shade=True)\n",
    "fig.set(xlim=0)\n",
    "fig.add_legend(fontsize=12)"
   ]
  },
  {
   "cell_type": "code",
   "execution_count": 8,
   "metadata": {},
   "outputs": [
    {
     "name": "stdout",
     "output_type": "stream",
     "text": [
      "Average length of spam texts 101.90 vs. non-spam texts 40.93 characters.\n"
     ]
    }
   ],
   "source": [
    "# calculating the average length per spam/non-spam text\n",
    "spam_len= df[df[\"target\"]==1][\"text length\"].mean()\n",
    "non_spam_len= df[df[\"target\"]==0][\"text length\"].mean()\n",
    "print(\"Average length of spam texts {:.2f} vs. non-spam texts {:.2f} characters.\".format(spam_len, non_spam_len))"
   ]
  },
  {
   "cell_type": "markdown",
   "metadata": {},
   "source": [
    "From the distribution above, it is clear that spam texts tend to be longer than non-spam texts. On average, spam messages contain 102 characters whereas non-spam texts are only 41 characters long.\n",
    "\n",
    "The number of digits in a message could also be indicative of spam. Let's have a look."
   ]
  },
  {
   "cell_type": "code",
   "execution_count": 9,
   "metadata": {},
   "outputs": [
    {
     "data": {
      "text/plain": [
       "<seaborn.axisgrid.FacetGrid at 0x112e2c9b0>"
      ]
     },
     "execution_count": 9,
     "metadata": {},
     "output_type": "execute_result"
    },
    {
     "data": {
      "image/png": "[encoded data removed]",
      "text/plain": [
       "<matplotlib.figure.Figure at 0x109e0c6d8>"
      ]
     },
     "metadata": {},
     "output_type": "display_data"
    }
   ],
   "source": [
    "# counting the number of digits per text\n",
    "def count_digits(df):\n",
    "    num_digits= sum(char.isdigit() for char in df[\"text\"])\n",
    "    return num_digits\n",
    "\n",
    "df[\"num digits\"]= df.apply(count_digits, axis=1)\n",
    "\n",
    "# visualising the distribution of the number of digits per text\n",
    "sns.set(font_scale=1.2)\n",
    "fig= sns.FacetGrid(df, hue=\"target\", size=4, aspect=2, palette=\"GnBu_d\")\n",
    "fig.map(sns.kdeplot, \"num digits\", shade=True)\n",
    "fig.set(xlim=0)\n",
    "fig.add_legend(fontsize=12)"
   ]
  },
  {
   "cell_type": "code",
   "execution_count": 10,
   "metadata": {},
   "outputs": [
    {
     "name": "stdout",
     "output_type": "stream",
     "text": [
      "Average number of digits per spam text 15.76 vs. non-spam text 0.30.\n"
     ]
    }
   ],
   "source": [
    "# calculating the average number of digits per spam/non-spam text\n",
    "spam_avg= df[df[\"target\"]==1][\"num digits\"].mean()\n",
    "non_spam_avg= df[df[\"target\"]==0][\"num digits\"].mean()\n",
    "print(\"Average number of digits per spam text {:.2f} vs. non-spam text {:.2f}.\".format(spam_avg, non_spam_avg))"
   ]
  },
  {
   "cell_type": "markdown",
   "metadata": {},
   "source": [
    "The above plot indicates that the vast majority of non-spam text messages has 0 to 4 digits. On the contrary, spam messages contain multiple numbers. On average, they include 15.8 digits per text (0.3 digits per non-spam text).\n",
    "\n",
    "We have seen that the length of a text and the number of digits it contains are indicative of spam. Feeding these new features to our model can drastically improve its performance."
   ]
  },
  {
   "cell_type": "markdown",
   "metadata": {},
   "source": [
    "----\n",
    "## Classification using CountVectorizer\n",
    "CountVectorizer is a popular Scikit-learn tool that converts a text corpus to a matrix of token counts. Before using it, let's split the dataset into a training set and a test set."
   ]
  },
  {
   "cell_type": "code",
   "execution_count": 11,
   "metadata": {},
   "outputs": [],
   "source": [
    "# splitting the dataset\n",
    "X_train, X_test, y_train, y_test= train_test_split(df[\"text\"], df[\"target\"], random_state=0)"
   ]
  },
  {
   "cell_type": "code",
   "execution_count": 12,
   "metadata": {},
   "outputs": [],
   "source": [
    "# CountVectorizer\n",
    "vect= CountVectorizer().fit(X_train)\n",
    "X_train_vect= vect.transform(X_train)\n",
    "X_test_vect= vect.transform(X_test)"
   ]
  },
  {
   "cell_type": "markdown",
   "metadata": {},
   "source": [
    "We can now add our generated features to the vectorized X_train and X_test."
   ]
  },
  {
   "cell_type": "code",
   "execution_count": 13,
   "metadata": {},
   "outputs": [],
   "source": [
    "# function to add new features to the training data\n",
    "def add_feature(X, new_feature):\n",
    "    return hstack([X, csr_matrix(new_feature).T], \"csr\")\n",
    "\n",
    "# adding features to X_train_vect and X_test_vect\n",
    "X_train_vect2= add_feature(X_train_vect, X_train.str.len())\n",
    "X_train_vect_final= add_feature(X_train_vect2, X_train.str.count(r'\\d'))\n",
    "X_test_vect2= add_feature(X_test_vect, X_test.str.len())\n",
    "X_test_vect_final= add_feature(X_test_vect2, X_test.str.count(r'\\d'))"
   ]
  },
  {
   "cell_type": "markdown",
   "metadata": {},
   "source": [
    "Our data is ready to be fed to different classifiers. For each model, we will compute the ROC AUC score."
   ]
  },
  {
   "cell_type": "code",
   "execution_count": 14,
   "metadata": {},
   "outputs": [
    {
     "name": "stdout",
     "output_type": "stream",
     "text": [
      "Logistic Regression ROC AUC score:  0.959002512605\n",
      "Multinomial Naive Bayes ROC AUC score:  0.967064495866\n",
      "Support Vector Classifier ROC AUC score:  0.89343072509\n"
     ]
    }
   ],
   "source": [
    "# Logistic Regression with default parameters\n",
    "logreg= LogisticRegression().fit(X_train_vect_final, y_train)\n",
    "pred_logreg= logreg.predict(X_test_vect_final)\n",
    "print(\"Logistic Regression ROC AUC score: \", roc_auc_score(y_test, pred_logreg))\n",
    "\n",
    "# Multinomial Naive Bayes with default parameters\n",
    "mnb= MultinomialNB().fit(X_train_vect_final, y_train)\n",
    "pred_mnb= mnb.predict(X_test_vect_final)\n",
    "print(\"Multinomial Naive Bayes ROC AUC score: \", roc_auc_score(y_test, pred_mnb))\n",
    "\n",
    "# Support Vector Classifier with default parameters\n",
    "svc= SVC().fit(X_train_vect_final, y_train)\n",
    "pred_svc= svc.predict(X_test_vect_final)\n",
    "print(\"Support Vector Classifier ROC AUC score: \", roc_auc_score(y_test, pred_svc))"
   ]
  },
  {
   "cell_type": "markdown",
   "metadata": {},
   "source": [
    "The best ROC AUC score we obtain when using CountVectorizer is 96.7%, with the Multinomial Naive Bayes model. Note that, since we have used default parameters for each model, there is room for improvement. We will compare these results with the ones obtained with TfidfVectorizer and tune the parameters of the best candidate model."
   ]
  },
  {
   "cell_type": "markdown",
   "metadata": {},
   "source": [
    "----\n",
    "## Classification using TfidfVectorizer\n",
    "TF-IDF stands for Term Frequency - Inverse Document Frequency. It is more sophisticated than CountVectorizer because after having counted how often words appear within a document, it also normalises the counts. In other words, this approach takes word 'importance' into account by scaling according to frequency."
   ]
  },
  {
   "cell_type": "code",
   "execution_count": 15,
   "metadata": {},
   "outputs": [],
   "source": [
    "# TfidfVectorizer\n",
    "tfidf= TfidfVectorizer().fit(X_train)\n",
    "X_train_tfidf= tfidf.transform(X_train)\n",
    "X_test_tfidf= tfidf.transform(X_test)"
   ]
  },
  {
   "cell_type": "code",
   "execution_count": 16,
   "metadata": {},
   "outputs": [
    {
     "name": "stdout",
     "output_type": "stream",
     "text": [
      "Logistic Regression ROC AUC score:  0.929829550278\n",
      "Multinomial Naive Bayes ROC AUC score:  0.918034735073\n",
      "Support Vector Classifier ROC AUC score:  0.89343072509\n"
     ]
    }
   ],
   "source": [
    "# adding features to X_train_vect and X_test_vect\n",
    "X_train_tfidf2= add_feature(X_train_tfidf, X_train.str.len())\n",
    "X_train_tfidf_final= add_feature(X_train_tfidf2, X_train.str.count(r'\\d'))\n",
    "X_test_tfidf2= add_feature(X_test_tfidf, X_test.str.len())\n",
    "X_test_tfidf_final= add_feature(X_test_tfidf2, X_test.str.count(r'\\d'))\n",
    "\n",
    "# Logistic Regression\n",
    "logreg= LogisticRegression().fit(X_train_tfidf_final, y_train)\n",
    "pred_logreg= logreg.predict(X_test_tfidf_final)\n",
    "print(\"Logistic Regression ROC AUC score: \", roc_auc_score(y_test, pred_logreg))\n",
    "\n",
    "# Multinomial Naive Bayes\n",
    "mnb= MultinomialNB().fit(X_train_tfidf_final, y_train)\n",
    "pred_mnb= mnb.predict(X_test_tfidf_final)\n",
    "print(\"Multinomial Naive Bayes ROC AUC score: \", roc_auc_score(y_test, pred_mnb))\n",
    "\n",
    "# Support Vector Classifier\n",
    "svc= SVC().fit(X_train_tfidf_final, y_train)\n",
    "pred_svc= svc.predict(X_test_tfidf_final)\n",
    "print(\"Support Vector Classifier ROC AUC score: \", roc_auc_score(y_test, pred_svc))"
   ]
  },
  {
   "cell_type": "markdown",
   "metadata": {},
   "source": [
    "The ROC AUC score obtained after having used TfidfVectorizer are slightly lower than the ones we got with CountVectorizer. The best candidate model seems to be a Multinomial Naive Bayes model combined with CountVectorizer. Let's try and improve its performance by tuning its parameters."
   ]
  },
  {
   "cell_type": "markdown",
   "metadata": {},
   "source": [
    "----\n",
    "## Final model tuning\n",
    "A convenient way to perform parameter tuning is to use GridSearchCV from Scikit-learn."
   ]
  },
  {
   "cell_type": "code",
   "execution_count": 17,
   "metadata": {},
   "outputs": [
    {
     "name": "stdout",
     "output_type": "stream",
     "text": [
      "Best ROC AUC score:  0.981917939921\n",
      "Model:  MultinomialNB(alpha=0.1, class_prior=None, fit_prior=True)\n"
     ]
    }
   ],
   "source": [
    "# parameter tuning with GridSearchCV\n",
    "model= MultinomialNB()\n",
    "grid_values= {\"alpha\": [0.01, 0.1, 1.0]}\n",
    "grid= GridSearchCV(model, param_grid=grid_values, scoring=\"roc_auc\")\n",
    "grid.fit(X_train_vect_final, y_train)\n",
    "print(\"Best ROC AUC score: \", grid.best_score_)\n",
    "print(\"Model: \", grid.best_estimator_)"
   ]
  },
  {
   "cell_type": "markdown",
   "metadata": {},
   "source": [
    "Using $\\alpha$=0.1 significantly improves our model's performance, bringing its ROC AUC score to 98.2%. We can plot the ROC curve to have a look at it."
   ]
  },
  {
   "cell_type": "code",
   "execution_count": 18,
   "metadata": {},
   "outputs": [
    {
     "data": {
      "text/plain": [
       "[<matplotlib.lines.Line2D at 0x113397b70>]"
      ]
     },
     "execution_count": 18,
     "metadata": {},
     "output_type": "execute_result"
    },
    {
     "data": {
      "image/png": "[encoded data removed]",
      "text/plain": [
       "<matplotlib.figure.Figure at 0x113292e10>"
      ]
     },
     "metadata": {},
     "output_type": "display_data"
    }
   ],
   "source": [
    "# visualising the ROC curve\n",
    "sns.set_style(\"whitegrid\")\n",
    "false_pos_rate, true_pos_rate, _= roc_curve(y_test, grid.predict(X_test_vect_final))\n",
    "roc_auc= auc(false_pos_rate, true_pos_rate)\n",
    "plt.plot(false_pos_rate, true_pos_rate, lw=3, color=\"#128494\", label='ROC curve (area = {:0.2f})'.format(roc_auc))\n",
    "plt.ylim([0.0, 1.01])\n",
    "plt.xlim([0.0, 1.01])\n",
    "plt.xlabel('False Positive Rate', fontsize=14)\n",
    "plt.ylabel('True Positive Rate', fontsize=14)\n",
    "plt.title('ROC curve', fontsize=16)\n",
    "plt.legend(loc='lower right', fontsize=13)\n",
    "plt.plot([0, 1], [0, 1], color=\"#128494\", lw=1, linestyle='--')"
   ]
  },
  {
   "cell_type": "markdown",
   "metadata": {},
   "source": [
    "----\n",
    "## Conclusion\n"
   ]
  },
  {
   "cell_type": "markdown",
   "metadata": {},
   "source": [
    "In this Natural Language Processing project, we compared different approaches to predict spam text messages. \n",
    "\n",
    "We started by preprocessing the messages: making text lowercase, removing punctuation and stop-words, stemming words. We then generated new features from the text messages. We compared the effect of using CountVectorizer vs. TfidfVectorizer, trained several models and selected the best candidate model for optimisation using GridSearchCV.\n",
    "\n",
    "The best performance was obtained with a Multinomial Naive Bayes model with $\\alpha$=0.1 and a CountVectorizer approach, corresponding to a ROC AUC score of 98.2%."
   ]
  },
  {
   "cell_type": "code",
   "execution_count": null,
   "metadata": {},
   "outputs": [],
   "source": []
  }
 ],
 "metadata": {
  "kernelspec": {
   "display_name": "Python [conda env:anaconda3]",
   "language": "python",
   "name": "conda-env-anaconda3-py"
  },
  "language_info": {
   "codemirror_mode": {
    "name": "ipython",
    "version": 3
   },
   "file_extension": ".py",
   "mimetype": "text/x-python",
   "name": "python",
   "nbconvert_exporter": "python",
   "pygments_lexer": "ipython3",
   "version": "3.6.3"
  }
 },
 "nbformat": 4,
 "nbformat_minor": 2
}
